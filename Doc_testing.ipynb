{
 "cells": [
  {
   "cell_type": "code",
   "execution_count": 1,
   "metadata": {},
   "outputs": [
    {
     "name": "stdout",
     "output_type": "stream",
     "text": [
      "Hello ashu, is it me you're looking for?\n"
     ]
    }
   ],
   "source": [
    "def say_hello(name):\n",
    "    print(f\"Hello {name}, is it me you're looking for?\")\n",
    "\n",
    "say_hello.__doc__ = \"A simple function that says hello... Richie style\"\n",
    "\n",
    "say_hello('ashu')"
   ]
  },
  {
   "cell_type": "code",
   "execution_count": 2,
   "metadata": {},
   "outputs": [
    {
     "name": "stdout",
     "output_type": "stream",
     "text": [
      "Help on function say_hello in module __main__:\n",
      "\n",
      "say_hello(name)\n",
      "    A simple function that says hello... Richie style\n",
      "\n"
     ]
    }
   ],
   "source": [
    "help(say_hello)"
   ]
  },
  {
   "cell_type": "code",
   "execution_count": 3,
   "metadata": {},
   "outputs": [],
   "source": [
    "def say_hello2(name):\n",
    "    \n",
    "    \"\"\"This is the summary line\n",
    "\n",
    "    This is the further elaboration of the docstring. Within this section,\n",
    "    you can elaborate further on details as appropriate for the situation.\n",
    "    Notice that the summary and the elaboration is separated by a blank new\n",
    "    line.\n",
    "    \"\"\"\n",
    "    print(f\"Hello {name}, is it me you're looking for?\")\n",
    "\n",
    "# Notice the blank line above. Code should continue on this line."
   ]
  },
  {
   "cell_type": "code",
   "execution_count": 4,
   "metadata": {},
   "outputs": [
    {
     "name": "stdout",
     "output_type": "stream",
     "text": [
      "Help on function say_hello2 in module __main__:\n",
      "\n",
      "say_hello2(name)\n",
      "    This is the summary line\n",
      "    \n",
      "    This is the further elaboration of the docstring. Within this section,\n",
      "    you can elaborate further on details as appropriate for the situation.\n",
      "    Notice that the summary and the elaboration is separated by a blank new\n",
      "    line.\n",
      "\n"
     ]
    }
   ],
   "source": [
    "help(say_hello2)"
   ]
  },
  {
   "cell_type": "code",
   "execution_count": 5,
   "metadata": {},
   "outputs": [],
   "source": [
    "class Animal:\n",
    "    \"\"\"\n",
    "    A class used to represent an Animal\n",
    "\n",
    "    ...\n",
    "\n",
    "    Attributes\n",
    "    ----------\n",
    "    says_str : str\n",
    "        a formatted string to print out what the animal says\n",
    "    name : str\n",
    "        the name of the animal\n",
    "    sound : str\n",
    "        the sound that the animal makes\n",
    "    num_legs : int\n",
    "        the number of legs the animal has (default 4)\n",
    "\n",
    "    Methods\n",
    "    -------\n",
    "    says(sound=None)\n",
    "        Prints the animals name and what sound it makes\n",
    "    \"\"\"\n",
    "\n",
    "    says_str = \"A {name} says {sound}\"\n",
    "\n",
    "    def __init__(self, name, sound, num_legs=4):\n",
    "        \"\"\"\n",
    "        Parameters\n",
    "        ----------\n",
    "        name : str\n",
    "            The name of the animal\n",
    "        sound : str\n",
    "            The sound the animal makes\n",
    "        num_legs : int, optional\n",
    "            The number of legs the animal (default is 4)\n",
    "        \"\"\"\n",
    "\n",
    "        self.name = name\n",
    "        self.sound = sound\n",
    "        self.num_legs = num_legs\n",
    "\n",
    "    def says(self, sound=None):\n",
    "        \"\"\"Prints what the animals name is and what sound it makes.\n",
    "\n",
    "        If the argument `sound` isn't passed in, the default Animal\n",
    "        sound is used.\n",
    "\n",
    "        Parameters\n",
    "        ----------\n",
    "        sound : str, optional\n",
    "            The sound the animal makes (default is None)\n",
    "\n",
    "        Raises\n",
    "        ------\n",
    "        NotImplementedError\n",
    "            If no sound is set for the animal or passed in as a\n",
    "            parameter.\n",
    "        \"\"\"\n",
    "\n",
    "        if self.sound is None and sound is None:\n",
    "            raise NotImplementedError(\"Silent Animals are not supported!\")\n",
    "\n",
    "        out_sound = self.sound if sound is None else sound\n",
    "        print(self.says_str.format(name=self.name, sound=out_sound))"
   ]
  },
  {
   "cell_type": "code",
   "execution_count": 6,
   "metadata": {},
   "outputs": [
    {
     "name": "stdout",
     "output_type": "stream",
     "text": [
      "Help on function says in module __main__:\n",
      "\n",
      "says(self, sound=None)\n",
      "    Prints what the animals name is and what sound it makes.\n",
      "    \n",
      "    If the argument `sound` isn't passed in, the default Animal\n",
      "    sound is used.\n",
      "    \n",
      "    Parameters\n",
      "    ----------\n",
      "    sound : str, optional\n",
      "        The sound the animal makes (default is None)\n",
      "    \n",
      "    Raises\n",
      "    ------\n",
      "    NotImplementedError\n",
      "        If no sound is set for the animal or passed in as a\n",
      "        parameter.\n",
      "\n"
     ]
    }
   ],
   "source": [
    "help(Animal.says)"
   ]
  },
  {
   "cell_type": "code",
   "execution_count": 7,
   "metadata": {},
   "outputs": [],
   "source": [
    "\"\"\"Spreadsheet Column Printer\n",
    "\n",
    "This script allows the user to print to the console all columns in the\n",
    "spreadsheet. It is assumed that the first row of the spreadsheet is the\n",
    "location of the columns.\n",
    "\n",
    "This tool accepts comma separated value files (.csv) as well as excel\n",
    "(.xls, .xlsx) files.\n",
    "\n",
    "This script requires that `pandas` be installed within the Python\n",
    "environment you are running this script in.\n",
    "\n",
    "This file can also be imported as a module and contains the following\n",
    "functions:\n",
    "\n",
    "    * get_spreadsheet_cols - returns the column headers of the file\n",
    "    * main - the main function of the script\n",
    "\"\"\"\n",
    "\n",
    "import argparse\n",
    "\n",
    "import pandas as pd\n",
    "\n",
    "\n",
    "def get_spreadsheet_cols(file_loc, print_cols=False):\n",
    "    \"\"\"Gets and prints the spreadsheet's header columns\n",
    "\n",
    "    Parameters\n",
    "    ----------\n",
    "    file_loc : str\n",
    "        The file location of the spreadsheet\n",
    "    print_cols : bool, optional\n",
    "        A flag used to print the columns to the console (default is\n",
    "        False)\n",
    "\n",
    "    Returns\n",
    "    -------\n",
    "    list\n",
    "        a list of strings used that are the header columns\n",
    "    \"\"\"\n",
    "\n",
    "    file_data = pd.read_excel(file_loc)\n",
    "    col_headers = list(file_data.columns.values)\n",
    "\n",
    "    if print_cols:\n",
    "        print(\"\\n\".join(col_headers))\n",
    "\n",
    "    return col_headers\n",
    "\n",
    "\n",
    "def main():\n",
    "    parser = argparse.ArgumentParser(description=__doc__)\n",
    "    parser.add_argument(\n",
    "        'input_file',\n",
    "        type=str,\n",
    "        help=\"The spreadsheet file to pring the columns of\"\n",
    "    )\n",
    "    args = parser.parse_args()\n",
    "    get_spreadsheet_cols(args.input_file, print_cols=True)\n",
    "\n",
    "\n",
    "# if __name__ == \"__main__\":\n",
    "#     main()"
   ]
  },
  {
   "cell_type": "code",
   "execution_count": 9,
   "metadata": {},
   "outputs": [
    {
     "name": "stdout",
     "output_type": "stream",
     "text": [
      "Help on function greet in module __main__:\n",
      "\n",
      "greet(name)\n",
      "    Print a greeting.\n",
      "    \n",
      "    Args:\n",
      "        name (str): The name of the person to greet.\n",
      "\n"
     ]
    }
   ],
   "source": [
    "def greet(name):\n",
    "    \"\"\"Print a greeting.\n",
    "\n",
    "     Args:\n",
    "         name (str): The name of the person to greet.\n",
    "     \"\"\"\n",
    "    print(f\"Hello {name}!\")\n",
    "    \n",
    "help(greet)"
   ]
  },
  {
   "cell_type": "code",
   "execution_count": 10,
   "metadata": {},
   "outputs": [
    {
     "data": {
      "text/plain": [
       "'Print a greeting.\\n\\n     Args:\\n         name (str): The name of the person to greet.\\n     '"
      ]
     },
     "execution_count": 10,
     "metadata": {},
     "output_type": "execute_result"
    }
   ],
   "source": [
    "greet.__doc__  #An object’s docstring is saved in .__doc__"
   ]
  },
  {
   "cell_type": "code",
   "execution_count": null,
   "metadata": {},
   "outputs": [],
   "source": []
  }
 ],
 "metadata": {
  "kernelspec": {
   "display_name": "DocString",
   "language": "python",
   "name": "python3"
  },
  "language_info": {
   "codemirror_mode": {
    "name": "ipython",
    "version": 3
   },
   "file_extension": ".py",
   "mimetype": "text/x-python",
   "name": "python",
   "nbconvert_exporter": "python",
   "pygments_lexer": "ipython3",
   "version": "3.9.6"
  }
 },
 "nbformat": 4,
 "nbformat_minor": 2
}
